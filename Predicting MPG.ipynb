{
 "cells": [
  {
   "cell_type": "markdown",
   "metadata": {},
   "source": [
    "#Predicting miles per gallon from car data using linear regression "
   ]
  },
  {
   "cell_type": "markdown",
   "metadata": {},
   "source": [
    "##Import data and explore"
   ]
  },
  {
   "cell_type": "code",
   "execution_count": 50,
   "metadata": {
    "collapsed": false
   },
   "outputs": [
    {
     "name": "stdout",
     "output_type": "stream",
     "text": [
      "   mpg  cylinders  displacement horsepower  weight  acceleration  model year  \\\n",
      "0   18          8           307      130.0    3504          12.0          70   \n",
      "1   15          8           350      165.0    3693          11.5          70   \n",
      "2   18          8           318      150.0    3436          11.0          70   \n",
      "3   16          8           304      150.0    3433          12.0          70   \n",
      "4   17          8           302      140.0    3449          10.5          70   \n",
      "\n",
      "   origin                   car name  \n",
      "0       1  chevrolet chevelle malibu  \n",
      "1       1          buick skylark 320  \n",
      "2       1         plymouth satellite  \n",
      "3       1              amc rebel sst  \n",
      "4       1                ford torino  \n"
     ]
    }
   ],
   "source": [
    "import pandas as pd\n",
    "%matplotlib inline\n",
    "import matplotlib.pyplot as plt\n",
    "\n",
    "\n",
    "\n",
    "columns = [\"mpg\", \"cylinders\", \"displacement\", \"horsepower\", \"weight\", \"acceleration\", \"model year\", \"origin\", \"car name\"]\n",
    "cars = pd.read_table(\"/Users/matthu24/.spyder2-py3/auto-mpg.data.txt\", delim_whitespace=True, names=columns)\n",
    "print(cars.head(5))\n"
   ]
  },
  {
   "cell_type": "code",
   "execution_count": 51,
   "metadata": {
    "collapsed": false
   },
   "outputs": [
    {
     "name": "stdout",
     "output_type": "stream",
     "text": [
      "mpg             0\n",
      "cylinders       0\n",
      "displacement    0\n",
      "horsepower      0\n",
      "weight          0\n",
      "acceleration    0\n",
      "model year      0\n",
      "origin          0\n",
      "car name        0\n",
      "dtype: int64\n",
      "              mpg   cylinders  displacement       weight  acceleration  \\\n",
      "count  398.000000  398.000000    398.000000   398.000000    398.000000   \n",
      "mean    23.514573    5.454774    193.425879  2970.424623     15.568090   \n",
      "std      7.815984    1.701004    104.269838   846.841774      2.757689   \n",
      "min      9.000000    3.000000     68.000000  1613.000000      8.000000   \n",
      "25%     17.500000    4.000000    104.250000  2223.750000     13.825000   \n",
      "50%     23.000000    4.000000    148.500000  2803.500000     15.500000   \n",
      "75%     29.000000    8.000000    262.000000  3608.000000     17.175000   \n",
      "max     46.600000    8.000000    455.000000  5140.000000     24.800000   \n",
      "\n",
      "       model year      origin  \n",
      "count  398.000000  398.000000  \n",
      "mean    76.010050    1.572864  \n",
      "std      3.697627    0.802055  \n",
      "min     70.000000    1.000000  \n",
      "25%     73.000000    1.000000  \n",
      "50%     76.000000    1.000000  \n",
      "75%     79.000000    2.000000  \n",
      "max     82.000000    3.000000  \n"
     ]
    }
   ],
   "source": [
    "missing_values = cars.isnull().sum()\n",
    "print(missing_values)\n",
    "describe = cars.describe()\n",
    "print(describe)"
   ]
  },
  {
   "cell_type": "markdown",
   "metadata": {},
   "source": [
    "A couple rows have \"?\" for horsepower values, but we will leave them there because we don't have a lot of data.  Most of the data is complete."
   ]
  },
  {
   "cell_type": "markdown",
   "metadata": {},
   "source": [
    "##Feature selection"
   ]
  },
  {
   "cell_type": "code",
   "execution_count": 52,
   "metadata": {
    "collapsed": false
   },
   "outputs": [
    {
     "name": "stdout",
     "output_type": "stream",
     "text": [
      "                 Scores\n",
      "cylinders     63.620117\n",
      "displacement  66.632707\n",
      "weight        73.120627\n",
      "model year    19.103682\n",
      "origin        15.559768\n",
      "acceleration   5.549291\n"
     ]
    }
   ],
   "source": [
    "#see which columns are most correlated with mpg \n",
    "import numpy as np\n",
    "from sklearn.feature_selection import SelectKBest, f_classif\n",
    "\n",
    "predictors = [\"cylinders\",\"displacement\",\"weight\",\"model year\",\"origin\",\"acceleration\"]\n",
    "# Perform feature selection\n",
    "#initialize selector\n",
    "selector = SelectKBest(f_classif, k=5)\n",
    "#\"train\" selector on predictors and see how they each correlate to survived column\n",
    "selector.fit(cars[predictors], cars[\"mpg\"])\n",
    "\n",
    "# Get the raw p-values for each feature, and transform from p-values into scores\n",
    "#corresponding predictor for scores is numbered from 0-9\n",
    "scores = -np.log10(selector.pvalues_)\n",
    "scores_df = pd.DataFrame({'Scores':scores},index = predictors)\n",
    "print(scores_df)\n",
    "\n"
   ]
  },
  {
   "cell_type": "markdown",
   "metadata": {},
   "source": [
    "Acceleration and origin are the least correlated\n",
    "Weight,cylinders, and displacement are the most correlated to mpg\n"
   ]
  },
  {
   "cell_type": "markdown",
   "metadata": {},
   "source": [
    "##Explore trends"
   ]
  },
  {
   "cell_type": "code",
   "execution_count": 53,
   "metadata": {
    "collapsed": false,
    "scrolled": false
   },
   "outputs": [
    {
     "data": {
      "image/png": "[encoded data removed]",
      "text/plain": [
       "<matplotlib.figure.Figure at 0x10afd1c88>"
      ]
     },
     "metadata": {},
     "output_type": "display_data"
    },
    {
     "data": {
      "image/png": "[encoded data removed]",
      "text/plain": [
       "<matplotlib.figure.Figure at 0x10d0bd278>"
      ]
     },
     "metadata": {},
     "output_type": "display_data"
    },
    {
     "data": {
      "image/png": "[encoded data removed]",
      "text/plain": [
       "<matplotlib.figure.Figure at 0x10afd1eb8>"
      ]
     },
     "metadata": {},
     "output_type": "display_data"
    },
    {
     "data": {
      "image/png": "[encoded data removed]",
      "text/plain": [
       "<matplotlib.figure.Figure at 0x10b410d68>"
      ]
     },
     "metadata": {},
     "output_type": "display_data"
    }
   ],
   "source": [
    "plt.hist(cars[\"mpg\"])\n",
    "plt.ylabel(\"frequency\")\n",
    "plt.xlabel(\"mpg\")\n",
    "plt.show()\n",
    "\n",
    "#plot most correlated\n",
    "plt.scatter(cars[\"weight\"],cars[\"mpg\"])\n",
    "plt.xlabel(\"weight\")\n",
    "plt.ylabel(\"mpg\")\n",
    "plt.show()\n",
    "\n",
    "#plot least correlated\n",
    "plt.scatter(cars[\"acceleration\"],cars[\"mpg\"])\n",
    "plt.xlabel(\"acceleration\")\n",
    "plt.ylabel(\"mpg\")\n",
    "plt.show()\n",
    "\n",
    "plt.scatter(cars[\"origin\"],cars[\"mpg\"])\n",
    "plt.xlabel(\"origin\")\n",
    "plt.ylabel(\"mpg\")\n",
    "plt.show()\n"
   ]
  },
  {
   "cell_type": "markdown",
   "metadata": {},
   "source": [
    "##Fitting and predicting using linear regression"
   ]
  },
  {
   "cell_type": "code",
   "execution_count": 56,
   "metadata": {
    "collapsed": false
   },
   "outputs": [
    {
     "name": "stdout",
     "output_type": "stream",
     "text": [
      "[ 13.08614458  11.65002098  13.53776446  13.59330204  13.48559232\n",
      "   6.89440536   6.74143167   7.07149724   6.23919136  10.44652684]\n"
     ]
    }
   ],
   "source": [
    "#perform cross validation splits and train/predict linear regression model\n",
    "\n",
    "from sklearn.linear_model import LinearRegression\n",
    "from sklearn.cross_validation import KFold\n",
    "high_predictors = [\"weight\",\"displacement\",\"cylinders\",\"model year\",\"origin\"]\n",
    "alg = LinearRegression()\n",
    "kf = KFold(cars.shape[0],n_folds = 3,random_state=1)\n",
    "\n",
    "predictions = []\n",
    "\n",
    "#kf splits cars DF into three sections,\n",
    "#we always train two sections, then test the third section\n",
    "\n",
    "for train,test in kf:\n",
    "    #For both the predictor columns and the target column, split the data into\n",
    "    #training sets (meaning we grab 2/3 of the rows for the specified columns)\n",
    "    train_predictors = cars[high_predictors].iloc[train,:]\n",
    "    train_target = cars[\"mpg\"].iloc[train]\n",
    "    \n",
    "    #train the training data!\n",
    "    alg.fit(train_predictors,train_target)\n",
    "    \n",
    "    #use the fit to predict on the test data\n",
    "    prediction = alg.predict(cars[high_predictors].iloc[test,:])\n",
    "    predictions.append(prediction)\n",
    "    \n",
    "import numpy as np\n",
    "#predictions is currently a list of three lists: piece the three lists together \n",
    "predictions = np.concatenate(predictions,axis = 0)\n",
    "print(predictions[0:10])"
   ]
  },
  {
   "cell_type": "markdown",
   "metadata": {},
   "source": [
    "##Model Error"
   ]
  },
  {
   "cell_type": "code",
   "execution_count": 59,
   "metadata": {
    "collapsed": false
   },
   "outputs": [
    {
     "name": "stdout",
     "output_type": "stream",
     "text": [
      "mse = 16.63650514270182\n",
      "rmse = 4.078787214687942\n"
     ]
    }
   ],
   "source": [
    "#compute error of model\n",
    "from sklearn.metrics import mean_squared_error\n",
    "mse = mean_squared_error(cars[\"mpg\"], predictions)\n",
    "rmse = mse **0.5\n",
    "print(\"mse = {0}\".format(mse))\n",
    "print(\"rmse = {0}\".format(rmse))"
   ]
  },
  {
   "cell_type": "markdown",
   "metadata": {},
   "source": [
    "The five chosen predictors (weight, displacement, cylinders, model year, and origin) give the lowest rmse."
   ]
  },
  {
   "cell_type": "markdown",
   "metadata": {},
   "source": [
    "##Determine which car brands have the highest mpg"
   ]
  },
  {
   "cell_type": "code",
   "execution_count": 60,
   "metadata": {
    "collapsed": false
   },
   "outputs": [
    {
     "name": "stdout",
     "output_type": "stream",
     "text": [
      "ford         51\n",
      "chevrolet    43\n",
      "plymouth     31\n",
      "amc          28\n",
      "dodge        28\n",
      "Name: brands, dtype: int64\n"
     ]
    }
   ],
   "source": [
    "first_names = []\n",
    "\n",
    "for car in cars[\"car name\"]:\n",
    "    first_name = car.split()[0]\n",
    "    first_names.append(first_name)\n",
    "    \n",
    "brand_DF = pd.DataFrame({'brands':first_names})\n",
    "cars[\"brand\"] = brand_DF\n",
    "\n",
    "brands = brand_DF['brands'].value_counts()\n",
    "popular_brands = brands.iloc[0:5]\n",
    "print(popular_brands)"
   ]
  },
  {
   "cell_type": "code",
   "execution_count": 61,
   "metadata": {
    "collapsed": false
   },
   "outputs": [
    {
     "name": "stdout",
     "output_type": "stream",
     "text": [
      "               value counts        mpg\n",
      "vw                        6  39.016667\n",
      "nissan                    1  36.000000\n",
      "triumph                   1  35.000000\n",
      "honda                    13  33.761538\n",
      "renault                   5  32.880000\n",
      "datsun                   23  31.113043\n",
      "mazda                    10  30.860000\n",
      "subaru                    4  30.525000\n",
      "vokswagen                 1  29.800000\n",
      "volkswagen               15  29.106667\n",
      "fiat                      8  28.912500\n",
      "toyota                   25  28.372000\n",
      "audi                      7  26.714286\n",
      "maxda                     2  26.050000\n",
      "opel                      4  25.750000\n",
      "mercedes                  1  25.400000\n",
      "capri                     1  25.000000\n",
      "saab                      4  23.900000\n",
      "bmw                       2  23.750000\n",
      "peugeot                   8  23.687500\n",
      "mercedes-benz             2  23.250000\n",
      "toyouta                   1  23.000000\n",
      "dodge                    28  22.060714\n",
      "plymouth                 31  21.703226\n",
      "volvo                     6  21.116667\n",
      "oldsmobile               10  21.100000\n",
      "chevrolet                43  20.472093\n",
      "pontiac                  16  20.012500\n",
      "cadillac                  2  19.750000\n",
      "ford                     51  19.694118\n",
      "buick                    17  19.182353\n",
      "mercury                  11  19.118182\n",
      "amc                      28  18.246429\n",
      "chevy                     3  18.000000\n",
      "chrysler                  6  17.266667\n",
      "chevroelt                 1  16.000000\n",
      "hi                        1   9.000000\n"
     ]
    }
   ],
   "source": [
    "def average_mpg(brand):\n",
    "    filtered_cars = cars[cars[\"brand\"] == brand]\n",
    "    ave_mpg = filtered_cars[\"mpg\"].mean()\n",
    "    return ave_mpg\n",
    "    \n",
    "brands = pd.DataFrame({'value counts':brands})\n",
    "brands[\"mpg\"]=brands.index.map(lambda x: average_mpg(x))\n",
    "brands = brands.sort_values([\"mpg\"],ascending = False)\n",
    "print(brands)"
   ]
  }
 ],
 "metadata": {
  "kernelspec": {
   "display_name": "Python 3",
   "language": "python",
   "name": "python3"
  },
  "language_info": {
   "codemirror_mode": {
    "name": "ipython",
    "version": 3
   },
   "file_extension": ".py",
   "mimetype": "text/x-python",
   "name": "python",
   "nbconvert_exporter": "python",
   "pygments_lexer": "ipython3",
   "version": "3.5.1"
  }
 },
 "nbformat": 4,
 "nbformat_minor": 0
}
